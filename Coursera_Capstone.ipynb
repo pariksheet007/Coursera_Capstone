{
  "nbformat": 4,
  "nbformat_minor": 0,
  "metadata": {
    "colab": {
      "name": "Coursera_Capstone.ipynb",
      "provenance": []
    },
    "kernelspec": {
      "name": "python3",
      "display_name": "Python 3"
    }
  },
  "cells": [
    {
      "cell_type": "markdown",
      "metadata": {
        "id": "ehw-HRcxF0W8"
      },
      "source": [
        "# This notebook will be mainly used for the capstone project."
      ]
    },
    {
      "cell_type": "code",
      "metadata": {
        "id": "yJZdsVgKF67D"
      },
      "source": [
        "import pandas as pd\r\n",
        "import numpy as np"
      ],
      "execution_count": null,
      "outputs": []
    },
    {
      "cell_type": "code",
      "metadata": {
        "id": "gr6ubR-qGFo8",
        "colab": {
          "base_uri": "https://localhost:8080/"
        },
        "outputId": "daf9b85a-4187-4360-f799-b15f87ce5c38"
      },
      "source": [
        "print('Hello Capstone Project Course!')"
      ],
      "execution_count": null,
      "outputs": [
        {
          "output_type": "stream",
          "text": [
            "Hello Capstone Project Course!\n"
          ],
          "name": "stdout"
        }
      ]
    }
  ]
}